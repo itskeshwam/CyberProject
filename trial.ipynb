{
 "cells": [
  {
   "cell_type": "markdown",
   "metadata": {},
   "source": [
    "Preparing and Training the Model"
   ]
  },
  {
   "cell_type": "code",
   "execution_count": 4,
   "metadata": {},
   "outputs": [
    {
     "name": "stdout",
     "output_type": "stream",
     "text": [
      "Training Accuracy: 99.99%\n",
      "Test Accuracy: 99.42%\n"
     ]
    },
    {
     "data": {
      "text/plain": [
       "['selected_features.pkl']"
      ]
     },
     "execution_count": 4,
     "metadata": {},
     "output_type": "execute_result"
    }
   ],
   "source": [
    "import pandas as pd\n",
    "from sklearn.ensemble import ExtraTreesClassifier, RandomForestClassifier\n",
    "from sklearn.feature_selection import SelectFromModel\n",
    "from sklearn.model_selection import train_test_split\n",
    "from sklearn.metrics import accuracy_score, confusion_matrix\n",
    "import joblib  # For saving the trained model\n",
    "\n",
    "# 1. Load the Dataset\n",
    "# Replace 'MalwareData.csv' with the actual path to your dataset file.\n",
    "maldata = pd.read_csv(\"MalwareData.csv\", sep=\"|\")\n",
    "\n",
    "# Separate features (X) and labels (y)\n",
    "X = maldata.drop(['Name', 'md5', 'legitimate'], axis=1).values\n",
    "y = maldata['legitimate'].values\n",
    "\n",
    "# 2. Feature Selection with ExtraTreesClassifier\n",
    "# ExtraTreesClassifier identifies the most important features.\n",
    "extratrees = ExtraTreesClassifier().fit(X, y)\n",
    "select = SelectFromModel(extratrees, prefit=True)\n",
    "X_selected = select.transform(X)  # Reduced feature set\n",
    "\n",
    "# 3. Split the Data\n",
    "# Split into training and test sets for model validation.\n",
    "X_train, X_test, y_train, y_test = train_test_split(X_selected, y, test_size=0.3, random_state=42)\n",
    "\n",
    "# 4. Train the Model with RandomForestClassifier\n",
    "# Random forests are good for binary classification (malware vs. legit).\n",
    "model = RandomForestClassifier(n_estimators=50, random_state=42)\n",
    "model.fit(X_train, y_train)\n",
    "\n",
    "# Evaluate the Model\n",
    "train_accuracy = accuracy_score(y_train, model.predict(X_train)) * 100\n",
    "test_accuracy = accuracy_score(y_test, model.predict(X_test)) * 100\n",
    "print(f\"Training Accuracy: {train_accuracy:.2f}%\")\n",
    "print(f\"Test Accuracy: {test_accuracy:.2f}%\")\n",
    "\n",
    "# 5. Save the Trained Model for Later Use\n",
    "# We’ll save the model so we can use it to scan files.\n",
    "joblib.dump(model, 'malware_detection_model.pkl')\n",
    "\n",
    "\n",
    "# Save the selected feature indices\n",
    "selected_features = select.get_support(indices=True)\n",
    "joblib.dump(selected_features, 'selected_features.pkl')\n"
   ]
  },
  {
   "cell_type": "markdown",
   "metadata": {},
   "source": [
    " File Scanning Function"
   ]
  },
  {
   "cell_type": "code",
   "execution_count": 5,
   "metadata": {},
   "outputs": [],
   "source": [
    "def scan_file(file_features):\n",
    "    # Load the trained model and selected features\n",
    "    model = joblib.load('malware_detection_model.pkl')\n",
    "    selected_features = joblib.load('selected_features.pkl')\n",
    "    \n",
    "    # Select only the required features from the input file features\n",
    "    file_features_selected = [file_features[i] for i in selected_features]\n",
    "    \n",
    "    # Transform to the expected format for prediction\n",
    "    file_features_selected = [file_features_selected]  # Reshape to 2D array\n",
    "    \n",
    "    # Predict using the model\n",
    "    prediction = model.predict(file_features_selected)\n",
    "    \n",
    "    # Output the result\n",
    "    if prediction[0] == 1:\n",
    "        print(\"This file is legitimate.\")\n",
    "    else:\n",
    "        print(\"Warning: This file is detected as malware!\")\n"
   ]
  },
  {
   "cell_type": "markdown",
   "metadata": {},
   "source": [
    "Testing the Scanner"
   ]
  },
  {
   "cell_type": "code",
   "execution_count": 11,
   "metadata": {},
   "outputs": [
    {
     "ename": "IndexError",
     "evalue": "list index out of range",
     "output_type": "error",
     "traceback": [
      "\u001b[1;31m---------------------------------------------------------------------------\u001b[0m",
      "\u001b[1;31mIndexError\u001b[0m                                Traceback (most recent call last)",
      "Cell \u001b[1;32mIn[11], line 10\u001b[0m\n\u001b[0;32m      1\u001b[0m sample_file_features \u001b[38;5;241m=\u001b[39m [\n\u001b[0;32m      2\u001b[0m     \u001b[38;5;241m224\u001b[39m, \u001b[38;5;241m258\u001b[39m, \u001b[38;5;241m9\u001b[39m, \u001b[38;5;241m361984\u001b[39m, \u001b[38;5;241m115712\u001b[39m, \u001b[38;5;241m0\u001b[39m, \u001b[38;5;241m6135\u001b[39m, \u001b[38;5;241m4096\u001b[39m, \u001b[38;5;241m372736\u001b[39m, \u001b[38;5;241m4194304\u001b[39m,\n\u001b[0;32m      3\u001b[0m     \u001b[38;5;241m4096\u001b[39m, \u001b[38;5;241m512\u001b[39m, \u001b[38;5;241m0\u001b[39m, \u001b[38;5;241m0\u001b[39m, \u001b[38;5;241m1\u001b[39m, \u001b[38;5;241m0\u001b[39m, \u001b[38;5;241m1036288\u001b[39m, \u001b[38;5;241m1024\u001b[39m, \u001b[38;5;241m485887\u001b[39m, \u001b[38;5;241m16\u001b[39m, \u001b[38;5;241m1024\u001b[39m, \u001b[38;5;241m1048576\u001b[39m,\n\u001b[1;32m   (...)\u001b[0m\n\u001b[0;32m      6\u001b[0m     \u001b[38;5;241m8797\u001b[39m, \u001b[38;5;241m216\u001b[39m, \u001b[38;5;241m18032\u001b[39m, \u001b[38;5;241m0\u001b[39m, \u001b[38;5;241m16\u001b[39m, \u001b[38;5;241m1\u001b[39m\n\u001b[0;32m      7\u001b[0m ]\n\u001b[1;32m---> 10\u001b[0m \u001b[43mscan_file\u001b[49m\u001b[43m(\u001b[49m\u001b[43msample_file_features\u001b[49m\u001b[43m)\u001b[49m\n",
      "Cell \u001b[1;32mIn[5], line 7\u001b[0m, in \u001b[0;36mscan_file\u001b[1;34m(file_features)\u001b[0m\n\u001b[0;32m      4\u001b[0m selected_features \u001b[38;5;241m=\u001b[39m joblib\u001b[38;5;241m.\u001b[39mload(\u001b[38;5;124m'\u001b[39m\u001b[38;5;124mselected_features.pkl\u001b[39m\u001b[38;5;124m'\u001b[39m)\n\u001b[0;32m      6\u001b[0m \u001b[38;5;66;03m# Select only the required features from the input file features\u001b[39;00m\n\u001b[1;32m----> 7\u001b[0m file_features_selected \u001b[38;5;241m=\u001b[39m \u001b[43m[\u001b[49m\u001b[43mfile_features\u001b[49m\u001b[43m[\u001b[49m\u001b[43mi\u001b[49m\u001b[43m]\u001b[49m\u001b[43m \u001b[49m\u001b[38;5;28;43;01mfor\u001b[39;49;00m\u001b[43m \u001b[49m\u001b[43mi\u001b[49m\u001b[43m \u001b[49m\u001b[38;5;129;43;01min\u001b[39;49;00m\u001b[43m \u001b[49m\u001b[43mselected_features\u001b[49m\u001b[43m]\u001b[49m\n\u001b[0;32m      9\u001b[0m \u001b[38;5;66;03m# Transform to the expected format for prediction\u001b[39;00m\n\u001b[0;32m     10\u001b[0m file_features_selected \u001b[38;5;241m=\u001b[39m [file_features_selected]  \u001b[38;5;66;03m# Reshape to 2D array\u001b[39;00m\n",
      "Cell \u001b[1;32mIn[5], line 7\u001b[0m, in \u001b[0;36m<listcomp>\u001b[1;34m(.0)\u001b[0m\n\u001b[0;32m      4\u001b[0m selected_features \u001b[38;5;241m=\u001b[39m joblib\u001b[38;5;241m.\u001b[39mload(\u001b[38;5;124m'\u001b[39m\u001b[38;5;124mselected_features.pkl\u001b[39m\u001b[38;5;124m'\u001b[39m)\n\u001b[0;32m      6\u001b[0m \u001b[38;5;66;03m# Select only the required features from the input file features\u001b[39;00m\n\u001b[1;32m----> 7\u001b[0m file_features_selected \u001b[38;5;241m=\u001b[39m [\u001b[43mfile_features\u001b[49m\u001b[43m[\u001b[49m\u001b[43mi\u001b[49m\u001b[43m]\u001b[49m \u001b[38;5;28;01mfor\u001b[39;00m i \u001b[38;5;129;01min\u001b[39;00m selected_features]\n\u001b[0;32m      9\u001b[0m \u001b[38;5;66;03m# Transform to the expected format for prediction\u001b[39;00m\n\u001b[0;32m     10\u001b[0m file_features_selected \u001b[38;5;241m=\u001b[39m [file_features_selected]  \u001b[38;5;66;03m# Reshape to 2D array\u001b[39;00m\n",
      "\u001b[1;31mIndexError\u001b[0m: list index out of range"
     ]
    }
   ],
   "source": [
    "sample_file_features = [\n",
    "    224, 258, 9, 361984, 115712, 0, 6135, 4096, 372736, 4194304,\n",
    "    4096, 512, 0, 0, 1, 0, 1036288, 1024, 485887, 16, 1024, 1048576,\n",
    "    4096, 1048576, 4096, 0, 16, 8, 5.76, 3.60, 7.22, 59712, 1024,\n",
    "    325120, 126875.87, 896, 551848, 0, 0, 0, 0, 4, 3.26, 2.56, 3.53,\n",
    "    8797, 216, 18032, 0, 16, 1\n",
    "]\n",
    "\n",
    "\n",
    "scan_file(sample_file_features)\n"
   ]
  },
  {
   "cell_type": "code",
   "execution_count": 9,
   "metadata": {},
   "outputs": [
    {
     "ename": "SyntaxError",
     "evalue": "invalid syntax (3525510705.py, line 1)",
     "output_type": "error",
     "traceback": [
      "\u001b[1;36m  Cell \u001b[1;32mIn[9], line 1\u001b[1;36m\u001b[0m\n\u001b[1;33m    pyinstaller --onefile malware_detection_script.py\u001b[0m\n\u001b[1;37m                          ^\u001b[0m\n\u001b[1;31mSyntaxError\u001b[0m\u001b[1;31m:\u001b[0m invalid syntax\n"
     ]
    }
   ],
   "source": [
    "pyinstaller --onefile malware_detection_script.py\n"
   ]
  }
 ],
 "metadata": {
  "kernelspec": {
   "display_name": "Python 3",
   "language": "python",
   "name": "python3"
  },
  "language_info": {
   "codemirror_mode": {
    "name": "ipython",
    "version": 3
   },
   "file_extension": ".py",
   "mimetype": "text/x-python",
   "name": "python",
   "nbconvert_exporter": "python",
   "pygments_lexer": "ipython3",
   "version": "3.11.9"
  }
 },
 "nbformat": 4,
 "nbformat_minor": 2
}
